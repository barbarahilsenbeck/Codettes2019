{
 "cells": [
  {
   "cell_type": "markdown",
   "metadata": {},
   "source": [
    "**Jupyter-notebook commands**\n",
    "\n",
    "For executing cells type: **Ctrl + Enter** in the respective cell\n",
    "\n",
    "For moving to the next/previous cell use the **arrows** or **mouse**\n",
    "\n",
    "Insert new cells using the **+** button"
   ]
  },
  {
   "cell_type": "code",
   "execution_count": null,
   "metadata": {},
   "outputs": [],
   "source": [
    "# Import the necessary libraries\n",
    "import numpy as np\n",
    "import matplotlib.pyplot as plt\n",
    "from keras.datasets import mnist\n",
    "\n",
    "import warnings\n",
    "warnings.filterwarnings('ignore')"
   ]
  },
  {
   "cell_type": "code",
   "execution_count": null,
   "metadata": {},
   "outputs": [],
   "source": [
    "# Load the data set\n",
    "(x_train, y_train), (x_test, y_test) = mnist.load_data('/home/barbara/Documents/Codettes/MNIST_data/mnist.npz')"
   ]
  },
  {
   "cell_type": "code",
   "execution_count": null,
   "metadata": {},
   "outputs": [],
   "source": [
    "# TODO: Number of training examples (hint: use the shape command)\n",
    "n_train = ?\n",
    "print(\"Number of training examples =\", n_train)"
   ]
  },
  {
   "cell_type": "code",
   "execution_count": null,
   "metadata": {},
   "outputs": [],
   "source": [
    "# TODO: Number of testing examples.\n",
    "n_test = ?\n",
    "print(\"Number of testing examples =\", n_test)"
   ]
  },
  {
   "cell_type": "code",
   "execution_count": null,
   "metadata": {},
   "outputs": [],
   "source": [
    "# TODO: What's the shape of an traffic sign image?\n",
    "image_shape = [?, ?]\n",
    "print(\"Image data shape =\", image_shape)"
   ]
  },
  {
   "cell_type": "code",
   "execution_count": null,
   "metadata": {},
   "outputs": [],
   "source": [
    "# TODO: How many unique classes/labels there are in the dataset. (hint: use the set command)\n",
    "n_classes = ?\n",
    "print(\"Number of classes =\", n_classes)"
   ]
  },
  {
   "cell_type": "code",
   "execution_count": null,
   "metadata": {},
   "outputs": [],
   "source": [
    "# TODO:Plot one training image\n",
    "# command plt.imshow()\n",
    "?\n"
   ]
  },
  {
   "cell_type": "code",
   "execution_count": null,
   "metadata": {},
   "outputs": [],
   "source": [
    "# Check distribution of labels\n",
    "plt.hist(y_train, n_classes)\n",
    "plt.ylabel('Number of samples');\n",
    "plt.xlabel('Class');\n",
    "plt.legend(['Training samples', 'Validation samples'])"
   ]
  },
  {
   "cell_type": "code",
   "execution_count": null,
   "metadata": {},
   "outputs": [],
   "source": [
    "# Adjust the training set in order to meet the input format used in the original\n",
    "# paper which is 32x32x1\n",
    "\n",
    "# Add one axis at the end\n",
    "X_train = np.expand_dims(x_train, axis=3)\n",
    "X_test = np.expand_dims(x_test, axis=3)\n",
    " \n",
    "# Pad the images by 2 pixels at each side\n",
    "X_train = np.pad(X_train, ((0,0),(2,2),(2,2),(0,0)), 'constant')\n",
    "X_test = np.pad(X_test, ((0,0),(2,2),(2,2),(0,0)), 'constant')"
   ]
  },
  {
   "cell_type": "code",
   "execution_count": null,
   "metadata": {},
   "outputs": [],
   "source": [
    "# TODO: print the new shape of the training set\n",
    "?"
   ]
  },
  {
   "cell_type": "code",
   "execution_count": null,
   "metadata": {},
   "outputs": [],
   "source": [
    "#TODO: Standardization of the training data\n",
    "mean = X_train.mean().astype(np.float32)\n",
    "std = X_train.std().astype(np.float32)\n",
    "X_train = "
   ]
  },
  {
   "cell_type": "code",
   "execution_count": null,
   "metadata": {},
   "outputs": [],
   "source": [
    "# Convert class labels\n",
    "print(\"Label of first training sample =\", y_train[0])"
   ]
  },
  {
   "attachments": {
    "one-hot.png": {
     "image/png": "[encoded data removed]"
    }
   },
   "cell_type": "markdown",
   "metadata": {},
   "source": [
    "One-hot-encoding\n",
    "![one-hot.png](attachment:one-hot.png)"
   ]
  },
  {
   "cell_type": "code",
   "execution_count": null,
   "metadata": {},
   "outputs": [],
   "source": [
    "#One-hot encoding the labels\n",
    "from keras.utils.np_utils import to_categorical\n",
    "Y_train = to_categorical(y_train)"
   ]
  },
  {
   "cell_type": "code",
   "execution_count": null,
   "metadata": {},
   "outputs": [],
   "source": [
    "print(\"Label of first training sample one-hot-encoded =\", Y_train[0])"
   ]
  },
  {
   "cell_type": "code",
   "execution_count": null,
   "metadata": {},
   "outputs": [],
   "source": [
    "# Import all the layers that we need for building up the LeNet architecture\n",
    "# All core layers are defined here: https://keras.io/layers/core/\n",
    "import keras \n",
    "from keras.models import Sequential \n",
    "from keras.layers import Conv2D # 2D convolutional layer\n",
    "from keras.layers import MaxPooling2D # Max pooling\n",
    "from keras.layers import Flatten # Flattens the input\n",
    "from keras.layers import Dense # Fully connected layer"
   ]
  },
  {
   "cell_type": "markdown",
   "metadata": {},
   "source": [
    "**LeNet5 architecture**\n",
    "<img src=\"lenet5.png\" alt=\"drawing\" width=\"1000\"/>\n",
    "\n",
    "**Recap**\n",
    "- **filters**: how many filters are applied, define number of output layers\n",
    "- **kernel_size/pool_size**: how big is your filter\n",
    "- **strides**: how many steps you move the filter over the image"
   ]
  },
  {
   "cell_type": "code",
   "execution_count": null,
   "metadata": {},
   "outputs": [],
   "source": [
    "# TODO: Build up the model\n",
    "# hint: all convolutional layers use a filter of size 5x5 \n",
    "#       and RELU activation function\n",
    "\n",
    "model = Sequential()\n",
    "\n",
    "#Layer 1\n",
    "#Conv Layer 1\n",
    "model.add(Conv2D(filters = ?, \n",
    "                 kernel_size = 5, \n",
    "                 strides = ?, \n",
    "                 activation = 'relu', \n",
    "                 input_shape = (32,32,1)))\n",
    "#Pooling layer 1 (Subsampling)\n",
    "model.add(MaxPooling2D(pool_size = 2, strides = ?))\n",
    "\n",
    "#Layer 2\n",
    "#Conv Layer 2\n",
    "\n",
    "#Pooling Layer 2\n",
    "\n",
    "\n",
    "#Flatten the input\n",
    "model.add(Flatten())\n",
    "\n",
    "#Layer 3\n",
    "#Fully connected layer 1\n",
    "model.add(Dense(units = ?, activation = 'relu'))\n",
    "\n",
    "#Layer 4\n",
    "#Fully connected layer 2\n",
    "model.add(Dense(units = ?, activation = 'relu'))\n",
    "\n",
    "#Layer 5\n",
    "#Output Layer\n",
    "model.add(Dense(units = ?, activation = 'softmax'))"
   ]
  },
  {
   "cell_type": "code",
   "execution_count": null,
   "metadata": {},
   "outputs": [],
   "source": [
    "# Print the model architecture\n",
    "model.summary()"
   ]
  },
  {
   "cell_type": "code",
   "execution_count": null,
   "metadata": {},
   "outputs": [],
   "source": [
    "# Train the model using Adam optimizer and categorical_crossentropy\n",
    "\n",
    "# Check if \n",
    "## the loss is decreasing\n",
    "## the accuracy is increasing\n",
    "\n",
    "model.compile(optimizer = 'adam', loss = 'categorical_crossentropy', metrics = ['accuracy'])\n",
    "model.fit(X_train ,Y_train, epochs = 1)"
   ]
  },
  {
   "cell_type": "code",
   "execution_count": null,
   "metadata": {},
   "outputs": [],
   "source": [
    "# Show one sample test image: TODO: choose a test image\n",
    "index = ?\n",
    "plt.imshow(X_test[index][:,:,-1])\n",
    "test_image = np.expand_dims(X_test[index,:], axis=0)"
   ]
  },
  {
   "cell_type": "code",
   "execution_count": null,
   "metadata": {},
   "outputs": [],
   "source": [
    "# Predict the class of this test image\n",
    "y_pred = model.predict(test_image)\n",
    "print(\"One-hot-encoded output vector = \", y_pred)\n",
    "\n",
    "# Find the respective class\n",
    "y_pred_class = np.argmax(y_pred, axis = 1)\n",
    "print(\"Predicted class = \", y_pred_class)"
   ]
  },
  {
   "cell_type": "code",
   "execution_count": null,
   "metadata": {},
   "outputs": [],
   "source": [
    "# TODO: Predict on all test data\n",
    "y_pred = ?"
   ]
  },
  {
   "cell_type": "code",
   "execution_count": null,
   "metadata": {},
   "outputs": [],
   "source": [
    "# TODO: Converting one hot vectors to class labels\n",
    "pred_labels = ?"
   ]
  },
  {
   "cell_type": "code",
   "execution_count": null,
   "metadata": {},
   "outputs": [],
   "source": [
    "# Compare prediction with ground truth labels\n",
    "from sklearn.metrics import accuracy_score\n",
    "\n",
    "print(\"Accuracy score = \", accuracy_score(y_test, pred_labels))"
   ]
  }
 ],
 "metadata": {
  "kernelspec": {
   "display_name": "Python 3",
   "language": "python",
   "name": "python3"
  },
  "language_info": {
   "codemirror_mode": {
    "name": "ipython",
    "version": 3
   },
   "file_extension": ".py",
   "mimetype": "text/x-python",
   "name": "python",
   "nbconvert_exporter": "python",
   "pygments_lexer": "ipython3",
   "version": "3.5.2"
  },
  "widgets": {
   "state": {},
   "version": "1.1.2"
  }
 },
 "nbformat": 4,
 "nbformat_minor": 2
}
